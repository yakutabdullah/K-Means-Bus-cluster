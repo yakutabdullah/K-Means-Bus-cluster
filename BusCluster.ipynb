<<<<<<< HEAD
{
 "cells": [
  {
   "cell_type": "code",
   "execution_count": null,
   "metadata": {
    "collapsed": true
   },
   "outputs": [],
   "source": [
    "import pandas as pd\n",
    "import numpy as np\n",
    "import matplotlib.pyplot as plt\n",
    "from mpl_toolkits.mplot3d import Axes3D\n",
    "from sklearn import datasets\n",
    "from sklearn.cluster import KMeans"
   ]
  },
  {
   "cell_type": "code",
   "execution_count": null,
   "outputs": [],
   "source": [
    "# Loads the iris dataset\n",
    "df = pd.read_csv('segment_val12.csv')\n",
    "df.head()\n",
    "#print(iris)\n",
    "arr = np.array(df['sure'])\n",
    "arr"
   ],
   "metadata": {
    "collapsed": false,
    "pycharm": {
     "name": "#%%\n"
    }
   }
  },
  {
   "cell_type": "code",
   "execution_count": null,
   "outputs": [],
   "source": [
    "y = np.zeros(len(arr))\n",
    "plt.scatter(arr,y,color = 'm')\n",
    "plt.xticks(np.arange(0, 120, 10))\n",
    "plt.xlabel('CGPA VALUE')"
   ],
   "metadata": {
    "collapsed": false,
    "pycharm": {
     "name": "#%%\n"
    }
   }
  },
  {
   "cell_type": "code",
   "execution_count": null,
   "outputs": [],
   "source": [
    "k_range = range(1,11)\n",
    "inertias = []\n",
    "for k in k_range:\n",
    "    km = KMeans(n_clusters = k)\n",
    "    km.fit(df[['sure']])\n",
    "    inertias.append(km.inertia_)\n",
    "y = np.zeros(len(inertias))\n",
    "inertias\n",
    "\n",
    "plt.plot(inertias)\n",
    "plt.xlabel('K Value')\n",
    "plt.ylabel('SUM OF SQUARE ERROR')\n",
    "plt.xticks(np.arange(0, 9, 1))"
   ],
   "metadata": {
    "collapsed": false,
    "pycharm": {
     "name": "#%%\n"
    }
   }
  },
  {
   "cell_type": "code",
   "execution_count": null,
   "outputs": [],
   "source": [
    "km = KMeans(n_clusters = 2)\n",
    "y_predicted = km.fit_predict(df[['sure']])\n",
    "y_predicted"
   ],
   "metadata": {
    "collapsed": false,
    "pycharm": {
     "name": "#%%\n"
    }
   }
  },
  {
   "cell_type": "code",
   "execution_count": null,
   "outputs": [],
   "source": [
    "df['cluster']=y_predicted\n",
    "df"
   ],
   "metadata": {
    "collapsed": false,
    "pycharm": {
     "name": "#%%\n"
    }
   }
  },
  {
   "cell_type": "code",
   "execution_count": null,
   "outputs": [],
   "source": [
    "color = ['tomato','limegreen','midnightblue','blueviolet', 'g', 'r', 'c', 'm', 'wheat', 'k']\n",
    "for i in range(2):\n",
    "    df0 = df[df.cluster == i]\n",
    "    y = np.zeros(len(df0['sure']))\n",
    "    plt.scatter(df0.sure,y,color = color[i],label = 'CLUSTER ' + str(i))\n",
    "y = np.zeros(len(km.cluster_centers_))\n",
    "plt.scatter(km.cluster_centers_[:],y,color = 'yellow',marker = '*',label = 'CENTRIOD',s = 500)\n",
    "plt.legend()\n",
    "plt.xlabel(\"CGPA VALUES\")\n",
    "plt.xticks(np.arange(50, 250, 25))"
   ],
   "metadata": {
    "collapsed": false,
    "pycharm": {
     "name": "#%%\n"
    }
   }
  }
 ],
 "metadata": {
  "kernelspec": {
   "display_name": "Python 2",
   "language": "python",
   "name": "python2"
  },
  "language_info": {
   "codemirror_mode": {
    "name": "ipython",
    "version": 2
   },
   "file_extension": ".py",
   "mimetype": "text/x-python",
   "name": "python",
   "nbconvert_exporter": "python",
   "pygments_lexer": "ipython2",
   "version": "2.7.6"
  }
 },
 "nbformat": 4,
 "nbformat_minor": 0
}
=======
import pandas as pd
import numpy as np
import matplotlib.pyplot as plt
from mpl_toolkits.mplot3d import Axes3D
from sklearn import datasets
from sklearn.cluster import KMeans
>>>>>>> origin/main
